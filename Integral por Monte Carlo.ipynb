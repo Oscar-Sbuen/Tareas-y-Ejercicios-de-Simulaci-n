{
 "cells": [
  {
   "cell_type": "markdown",
   "id": "protecting-overall",
   "metadata": {},
   "source": [
    "# Ejercicio 4\n",
    "\n",
    "a) Calcular el valor de $E[X_i]$ y $V[X_i]$\n",
    "\n",
    "Sol.\n",
    " \n",
    "Si la variable aleatoria:\n",
    "\n",
    "$X_i$ =1  Si cae dentro del cuadro $\\\\$\n",
    "o $\\\\$\n",
    "\n",
    "$X_i$ =0 en caso de no caer $\\\\$\n",
    "\n",
    "\n",
    "$\\therefore$ $E[X_i]=1P(X_i=1)+0P(X_i=0)=p(X_i=1)p=\\frac{Π}{4}$ $\\\\$\n",
    "y $\\\\$\n",
    "\n",
    "$V[X_i]=1^2p(X_i=1)+0p(X_i=0)-p^2=p(1-p)$ $\\\\$\n",
    "\n",
    "Ahora, si defininimos la variable $\\\\$\n",
    "$Z_N=\\frac{X_1+X_2+\\ldots+X_N}{N}$ $\\\\$\n",
    "\n",
    "# Ejercicio 5 \n",
    "a) Calcular $E[Z_N]$ y $V[Z_N]$ b) ¿Cuál debe ser el valor de N para que el error sea de 0.01? $\\\\$\n",
    "\n",
    "Sol. a) \\\\\n",
    "Si definimos la variable $Z_N=\\frac{X_1+X_2+\\ldots+X_N}{N}$ $\\\\$\n",
    "\n",
    "$\\therefore$ $E[Z_N]=\\frac{1}{N}(E(X_1)+\\ldots+E(X_N))=\\frac{1}{N}Np=p=\\frac{Π}{4}$ $\\\\$\n",
    "y $\\\\$\n",
    "\n",
    "$V[Z_N]=\\frac{1}{N^2}(V(X_1)+\\ldots+V(X_1))=\\frac{1}{N}Np(1-p)=\\frac{p(1-p)}{N}$ $\\\\$\n",
    "\n",
    "Sol. b) $\\\\$\n",
    "\n",
    "N=10000\n",
    " \n"
   ]
  },
  {
   "cell_type": "markdown",
   "id": "common-brazil",
   "metadata": {},
   "source": [
    "# Calcular la raiz de arctan de 0 a 1"
   ]
  },
  {
   "cell_type": "code",
   "execution_count": 1,
   "id": "another-schedule",
   "metadata": {},
   "outputs": [],
   "source": [
    "#By:Oscar Sanchez Buendia\n",
    "import random\n",
    "import numpy as np\n",
    "import matplotlib.pyplot as plt\n",
    "import math"
   ]
  },
  {
   "cell_type": "code",
   "execution_count": 2,
   "id": "intimate-rendering",
   "metadata": {},
   "outputs": [
    {
     "name": "stdout",
     "output_type": "stream",
     "text": [
      "El valor de la integral es: 0.6297678913858462\n"
     ]
    }
   ],
   "source": [
    "l=[]\n",
    "n=1000000\n",
    "for i in range(n):\n",
    "  x=random.random()\n",
    "  arc=math.sqrt(math.atan(x))\n",
    "  l.append(arc)\n",
    "print(\"El valor de la integral es:\",np.mean(l))"
   ]
  }
 ],
 "metadata": {
  "kernelspec": {
   "display_name": "Python 3",
   "language": "python",
   "name": "python3"
  },
  "language_info": {
   "codemirror_mode": {
    "name": "ipython",
    "version": 3
   },
   "file_extension": ".py",
   "mimetype": "text/x-python",
   "name": "python",
   "nbconvert_exporter": "python",
   "pygments_lexer": "ipython3",
   "version": "3.9.2"
  }
 },
 "nbformat": 4,
 "nbformat_minor": 5
}
