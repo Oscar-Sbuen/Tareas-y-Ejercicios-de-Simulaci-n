{
 "cells": [
  {
   "cell_type": "markdown",
   "id": "scientific-simple",
   "metadata": {},
   "source": [
    "# Ejericicio \n",
    "Calular las integrales:\n",
    "\n",
    "a) $\\int_0^1 (1 - x^2)^{\\frac{3}{2}} dx$\n",
    "\n",
    "b) $\\int_{-2}^2 \\exp (x + x^2) dx$"
   ]
  },
  {
   "cell_type": "code",
   "execution_count": 2,
   "id": "subtle-azerbaijan",
   "metadata": {},
   "outputs": [],
   "source": [
    "import random \n",
    "import numpy as np\n",
    "import matplotlib.pyplot as plt\n",
    "import math \n",
    "import pandas as pd"
   ]
  },
  {
   "cell_type": "code",
   "execution_count": 3,
   "id": "induced-vision",
   "metadata": {},
   "outputs": [
    {
     "name": "stdout",
     "output_type": "stream",
     "text": [
      "El valor de la integral es: 0.5892081821999032\n"
     ]
    }
   ],
   "source": [
    "#Inciso a)\n",
    "l=[]\n",
    "n=1000000\n",
    "for i in range(n):\n",
    "  x=random.random()\n",
    "  arc=(1-x**2)**(3/2)\n",
    "  l.append(arc)\n",
    "print(\"El valor de la integral es:\", np.mean(l))"
   ]
  },
  {
   "cell_type": "code",
   "execution_count": 4,
   "id": "associate-scheduling",
   "metadata": {},
   "outputs": [
    {
     "name": "stdout",
     "output_type": "stream",
     "text": [
      "El valor de la integral es: 93.42041513015538\n"
     ]
    }
   ],
   "source": [
    "#Inciso b)\n",
    "l=[]\n",
    "n=1000000\n",
    "a=-2\n",
    "b=2\n",
    "for i in range(n):\n",
    "  x=a+random.random()*(b-a)\n",
    "  arc=math.exp(x+x**2)\n",
    "  l.append(arc)\n",
    "print(\"El valor de la integral es:\", (b-a)*np.mean(l))"
   ]
  },
  {
   "cell_type": "markdown",
   "id": "turned-sandwich",
   "metadata": {},
   "source": [
    "# Experimento de Buffon"
   ]
  },
  {
   "cell_type": "code",
   "execution_count": 6,
   "id": "particular-kelly",
   "metadata": {},
   "outputs": [
    {
     "name": "stdout",
     "output_type": "stream",
     "text": [
      "Toca la linea  47502710  veces\n",
      "NO toca la linea  102497290  veces\n",
      "El valor de pi es:  3.157714580915489\n"
     ]
    }
   ],
   "source": [
    "n = 150000000                                                                          \n",
    "# \"n\" número de agujas que vamos a lanzar\n",
    "\n",
    "sc = 0\n",
    "nc = 0\n",
    "\n",
    "for i in range(n):\n",
    "\n",
    "  x = random.random()                                                            \n",
    "#la cordenada \"x\" de nuestro punto\n",
    "  a = random.uniform(0,180)                                                      \n",
    "# angulo con el que va a caer nuestra aguja\n",
    "  c = math.cos(a)\n",
    "  dis = 0.5 * c\n",
    "  if (dis<=x and dis<=1-x):\n",
    "    nc = nc + 1\n",
    "  else:\n",
    "    sc = sc+1\n",
    "p = (n)/sc\n",
    "\n",
    "print(\"Toca la linea \", sc, \" veces\", end='\\n')\n",
    "print(\"NO toca la linea \", nc, \" veces\", end='\\n')\n",
    "print(\"El valor de pi es: \", p)"
   ]
  }
 ],
 "metadata": {
  "kernelspec": {
   "display_name": "Python 3",
   "language": "python",
   "name": "python3"
  },
  "language_info": {
   "codemirror_mode": {
    "name": "ipython",
    "version": 3
   },
   "file_extension": ".py",
   "mimetype": "text/x-python",
   "name": "python",
   "nbconvert_exporter": "python",
   "pygments_lexer": "ipython3",
   "version": "3.9.2"
  }
 },
 "nbformat": 4,
 "nbformat_minor": 5
}
