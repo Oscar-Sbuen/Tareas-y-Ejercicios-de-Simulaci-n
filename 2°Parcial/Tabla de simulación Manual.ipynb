{
 "cells": [
  {
   "cell_type": "markdown",
   "id": "closed-planner",
   "metadata": {},
   "source": [
    "# Tarea\n",
    "***Sánchez Buendia Oscar Uriel***"
   ]
  },
  {
   "cell_type": "markdown",
   "id": "sunrise-grade",
   "metadata": {},
   "source": [
    "|  Cliente i:                       |  1 | 2 | 3 |4 |5 |6 |7 |8 |9 |10 | 11 | 12 |\n",
    "|-----------------------------------|----|---|---|--|--|--|--|--|--|---|----|----|\n",
    "|Tiempo de llegada entre i + 1 e i: |2   | 1 | 3 |1 |1 | 4|2 |5 |1 | 2 | 2  |    |\n",
    "|Tiempo de servicio al cliente:     | 1  | 3 | 6 |2 |1 | 1|4 | 2|5 |1  | 1  | 3  |"
   ]
  },
  {
   "cell_type": "markdown",
   "id": "measured-adolescent",
   "metadata": {},
   "source": [
    "# Construir la tabla de forma manual"
   ]
  },
  {
   "cell_type": "markdown",
   "id": "recorded-offering",
   "metadata": {},
   "source": [
    "|    t    | Entrada/Salida i  |Ini serv i |Term serv i|T en cola| T en sist|Tamaño de cola T |Clientes en el sistema hasta t  |\n",
    "|---------|-------------------|-----------|-----------|---------|----------|-----------------|--------------------------------|\n",
    "|    0    |  1-E              | 0         |       1   |       0 |      1   |      0          |       1        |\n",
    "|    1    |  1-S              | -         |       -   |  -      |      -   |      0          |       0        | \n",
    "|    2    |  2-E              | 2         |    5      | 0       |      3   |      0          |       1        |\n",
    "|    3    |  3-E              | 5         | 11        |2        |   8      |      1          |       2        |\n",
    "|    5    |  2-S              | -         | -         |  -      |     -    |      0          |       1        | \n",
    "|    6    |  4-E              | 11        |    13     | 5       |    7     |      1          |       2        |\n",
    "|    7    |  5-E              | 13        |     14    |   6     |    7     |      2          |       3        | \n",
    "|    8    |  6-E              | 14        |     15    |   6     |    7     |      3          |       4        |\n",
    "|    11   |  3-S              | -         |      -    |   -     |    -     |      2          |       3        |\n",
    "|   12    |  7-E              | 15        |    19     |   3     |    7     |       3         |       4        |\n",
    "|    13   |  4-S              | -         |    -      |   -     |    -     |       2         |       3        | \n",
    "|    14   |  5-S              | -         |      -    |   -     |    -     |       1         |       2        |\n",
    "|    14   |  8-E              | 19        |     21    |   5     |    7     |       2         |       3        |\n",
    "|    15   |  6-S              | -         |      -    |   -     |    -     |       1         |       2        | \n",
    "|    19   |  7-S              | -         |      -    |   -     |    -     |       0         |       1        |\n",
    "|    19   |  9-E              | 21        |      26   |   2     |    7     |       1         |       2        | \n",
    "|    20   |  10-E             | 26        |    27     |   6     |    7     |       2         |       3        |\n",
    "|    21   |  8-S              | -         |    -      |    -    |    -     |       1         |       2        |\n",
    "|   22    |  11-E             | 27        |    28     |    5    |    6     |       2         |       3        |\n",
    "|    24   |  12-E             | 28        |     31    |   4     |    7     |       3         |       4        | \n",
    "|    26   |  9-S              | -         |      -    |    -    |    -     |       2         |       3        |\n",
    "|    27   |  10-S             | -         |      -    |    -    |    -     |       1         |       2        |\n",
    "|    28   |  11-S             | -         |      -    |    -    |    -     |       0         |       1        | \n",
    "|    31   |  12-S             | -         |     -     |    -    |    -     |       0         |        0       |"
   ]
  },
  {
   "cell_type": "markdown",
   "id": "postal-inspiration",
   "metadata": {},
   "source": [
    "Con la información de la tabla completa, determinar: $\\lambda$, $\\mu$, $L$ y $L_q$."
   ]
  },
  {
   "cell_type": "markdown",
   "id": "contrary-completion",
   "metadata": {},
   "source": [
    "$\\lambda = \\frac{12}{28}=0.4285$, $\\mu=\\frac{12}{31}=0.3870$, $W_q=\\frac{44}{12}=3.66$, $W=\\frac{74}{12}=6.16$, $L_q=W_q * \\lambda = 1.56831$, $L=W*\\lambda=2.63956$"
   ]
  }
 ],
 "metadata": {
  "kernelspec": {
   "display_name": "Python 3",
   "language": "python",
   "name": "python3"
  },
  "language_info": {
   "codemirror_mode": {
    "name": "ipython",
    "version": 3
   },
   "file_extension": ".py",
   "mimetype": "text/x-python",
   "name": "python",
   "nbconvert_exporter": "python",
   "pygments_lexer": "ipython3",
   "version": "3.9.2"
  }
 },
 "nbformat": 4,
 "nbformat_minor": 5
}
