{
  "nbformat": 4,
  "nbformat_minor": 0,
  "metadata": {
    "colab": {
      "name": "Línea de espera con un servidor.ipynb",
      "provenance": []
    },
    "kernelspec": {
      "name": "python3",
      "display_name": "Python 3"
    },
    "language_info": {
      "name": "python"
    }
  },
  "cells": [
    {
      "cell_type": "code",
      "execution_count": null,
      "metadata": {
        "colab": {
          "base_uri": "https://localhost:8080/"
        },
        "id": "zsu7zeWPqJsU",
        "outputId": "8d0282af-43e9-482a-d390-0e12caa1d83d"
      },
      "outputs": [
        {
          "output_type": "stream",
          "name": "stdout",
          "text": [
            "Llagada en       0.79 seg     #Clientes en el sistema 1\n",
            "Llagada en       1.19 seg     #Clientes en el sistema 2\n",
            "Llagada en       1.19 seg     #Clientes en el sistema 3\n",
            "                   Salida en       1.41 seg     #Clientes en el sistema 2\n",
            "                   Salida en       1.59 seg     #Clientes en el sistema 1\n",
            "Llagada en       2.02 seg     #Clientes en el sistema 2\n",
            "Llagada en       2.12 seg     #Clientes en el sistema 3\n",
            "Llagada en       2.78 seg     #Clientes en el sistema 4\n",
            "Llagada en       3.44 seg     #Clientes en el sistema 5\n",
            "Llagada en       3.50 seg     #Clientes en el sistema 6\n",
            "Llagada en       3.81 seg     #Clientes en el sistema 7\n",
            "                   Salida en       4.18 seg     #Clientes en el sistema 6\n",
            "                   Salida en       4.65 seg     #Clientes en el sistema 5\n",
            "                   Salida en       4.72 seg     #Clientes en el sistema 4\n",
            "Llagada en       5.30 seg     #Clientes en el sistema 5\n",
            "                   Salida en       5.99 seg     #Clientes en el sistema 4\n",
            "                   Salida en       6.82 seg     #Clientes en el sistema 3\n",
            "Llagada en       6.93 seg     #Clientes en el sistema 4\n",
            "Llagada en       6.99 seg     #Clientes en el sistema 5\n",
            "                   Salida en       7.22 seg     #Clientes en el sistema 4\n",
            "Llagada en       7.48 seg     #Clientes en el sistema 5\n",
            "                   Salida en       7.51 seg     #Clientes en el sistema 4\n",
            "Llagada en       8.17 seg     #Clientes en el sistema 5\n",
            "Llagada en       8.60 seg     #Clientes en el sistema 6\n",
            "Llagada en       9.09 seg     #Clientes en el sistema 7\n",
            "Llagada en       9.47 seg     #Clientes en el sistema 8\n",
            "Llagada en       9.80 seg     #Clientes en el sistema 9\n"
          ]
        }
      ],
      "source": [
        "from math import log\n",
        "from random import random \n",
        "l_l=1.8 #Parametro del proceso de poisson\n",
        "l_s=1.7 #Parametro de la distribución exponencial \n",
        "t=0 #Tiempo actual\n",
        "T=10 #Tiempo de simulación\n",
        "tl=-(1/l_l)*log(random()) #Tiempo en el que va a ocurrir la proxima llegada\n",
        "l=0 #Número de personas en el sistema\n",
        "inf=1000000000 #Infinito\n",
        "ts=inf\n",
        "\n",
        "while min(tl,ts)<T:\n",
        "    t=min(tl,ts)\n",
        "    if t==tl:\n",
        "        l=l+1\n",
        "        print(\"Llagada en %10.2f\"%tl,\"seg\",\"    #Clientes en el sistema\",l)\n",
        "        tl=tl-(1/l_l)*log(random()) \n",
        "        if l==1:\n",
        "            ts=t-(1/l_s)*log(random()) \n",
        "    else:\n",
        "        l=l-1\n",
        "        print(\"                   Salida en %10.2f\"%ts,\"seg\",\"    #Clientes en el sistema\",l)\n",
        "        if l==0:\n",
        "            ts=inf\n",
        "        else:\n",
        "            ts=t-(1/l_s)*log(random())"
      ]
    }
  ]
}